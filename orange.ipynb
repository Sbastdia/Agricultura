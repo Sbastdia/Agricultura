{
 "cells": [
  {
   "cell_type": "code",
   "execution_count": 2,
   "metadata": {},
   "outputs": [],
   "source": [
    "import Orange"
   ]
  },
  {
   "cell_type": "code",
   "execution_count": 3,
   "metadata": {},
   "outputs": [],
   "source": [
    "# Cargar los datos en Orange\n",
    "\n",
    "data = Orange.data.Table(\"agriculture_data.csv\")"
   ]
  },
  {
   "attachments": {},
   "cell_type": "markdown",
   "metadata": {},
   "source": [
    "Realizar una exploración inicial de los datos"
   ]
  },
  {
   "cell_type": "code",
   "execution_count": 4,
   "metadata": {},
   "outputs": [
    {
     "name": "stdout",
     "output_type": "stream",
     "text": [
      "Number of instances: 6000\n"
     ]
    }
   ],
   "source": [
    "print(f\"Number of instances: {len(data)}\")"
   ]
  },
  {
   "cell_type": "code",
   "execution_count": 5,
   "metadata": {},
   "outputs": [
    {
     "name": "stdout",
     "output_type": "stream",
     "text": [
      "Number of attributes: 5\n"
     ]
    }
   ],
   "source": [
    "print(f\"Number of attributes: {len(data.domain.attributes)}\")"
   ]
  },
  {
   "cell_type": "code",
   "execution_count": 6,
   "metadata": {},
   "outputs": [
    {
     "name": "stdout",
     "output_type": "stream",
     "text": [
      "Attribute names: (DiscreteVariable(name='tipo_cultivo', values=('Tomates',)), ContinuousVariable(name='tamano_finca', number_of_decimals=0), ContinuousVariable(name='rendimiento_cultivo', number_of_decimals=0), DiscreteVariable(name='uso_fertilizantes', values=('No', 'Sí')), ContinuousVariable(name='precio_venta (€/kg)', number_of_decimals=0))\n"
     ]
    }
   ],
   "source": [
    "print(f\"Attribute names: {data.domain.attributes}\")"
   ]
  },
  {
   "cell_type": "code",
   "execution_count": 7,
   "metadata": {},
   "outputs": [
    {
     "name": "stdout",
     "output_type": "stream",
     "text": [
      "Class name: None\n"
     ]
    }
   ],
   "source": [
    "print(f\"Class name: {data.domain.class_var}\")"
   ]
  },
  {
   "attachments": {},
   "cell_type": "markdown",
   "metadata": {},
   "source": [
    "Dividir los datos en conjuntos de entrenamiento y prueba"
   ]
  },
  {
   "cell_type": "code",
   "execution_count": 19,
   "metadata": {},
   "outputs": [],
   "source": [
    "import pandas as pd\n",
    "from sklearn.model_selection import train_test_split\n",
    "\n",
    "# Cargar los datos en un DataFrame de pandas\n",
    "data = pd.read_csv(\"agriculture_data.csv\")\n",
    "\n",
    "# Dividir los datos en conjuntos de entrenamiento y prueba\n",
    "train_data, test_data = train_test_split(data, test_size=0.2)"
   ]
  },
  {
   "attachments": {},
   "cell_type": "markdown",
   "metadata": {},
   "source": [
    "Construir el modelo de árbol de decisión CART utilizando los datos de entrenamiento"
   ]
  },
  {
   "cell_type": "code",
   "execution_count": 24,
   "metadata": {},
   "outputs": [
    {
     "ename": "AttributeError",
     "evalue": "module 'Orange.classification' has no attribute 'CARTLearner'",
     "output_type": "error",
     "traceback": [
      "\u001b[0;31m---------------------------------------------------------------------------\u001b[0m",
      "\u001b[0;31mAttributeError\u001b[0m                            Traceback (most recent call last)",
      "\u001b[0;32m/var/folders/vz/g15hkq995qg_xxn2dtvhp28w0000gn/T/ipykernel_25638/1336807455.py\u001b[0m in \u001b[0;36m<module>\u001b[0;34m\u001b[0m\n\u001b[1;32m      1\u001b[0m \u001b[0mdata\u001b[0m \u001b[0;34m=\u001b[0m \u001b[0mOrange\u001b[0m\u001b[0;34m.\u001b[0m\u001b[0mdata\u001b[0m\u001b[0;34m.\u001b[0m\u001b[0mTable\u001b[0m\u001b[0;34m(\u001b[0m\u001b[0;34m\"agriculture_data.csv\"\u001b[0m\u001b[0;34m)\u001b[0m\u001b[0;34m\u001b[0m\u001b[0;34m\u001b[0m\u001b[0m\n\u001b[1;32m      2\u001b[0m \u001b[0;34m\u001b[0m\u001b[0m\n\u001b[0;32m----> 3\u001b[0;31m \u001b[0mcart\u001b[0m \u001b[0;34m=\u001b[0m \u001b[0mOrange\u001b[0m\u001b[0;34m.\u001b[0m\u001b[0mclassification\u001b[0m\u001b[0;34m.\u001b[0m\u001b[0mCARTLearner\u001b[0m\u001b[0;34m(\u001b[0m\u001b[0;34m)\u001b[0m\u001b[0;34m\u001b[0m\u001b[0;34m\u001b[0m\u001b[0m\n\u001b[0m\u001b[1;32m      4\u001b[0m \u001b[0mmodel\u001b[0m \u001b[0;34m=\u001b[0m \u001b[0mcart\u001b[0m\u001b[0;34m(\u001b[0m\u001b[0mtrain_data\u001b[0m\u001b[0;34m)\u001b[0m\u001b[0;34m\u001b[0m\u001b[0;34m\u001b[0m\u001b[0m\n",
      "\u001b[0;31mAttributeError\u001b[0m: module 'Orange.classification' has no attribute 'CARTLearner'"
     ]
    }
   ],
   "source": [
    "data = Orange.data.Table(\"agriculture_data.csv\")\n",
    "\n",
    "cart = Orange.classification.CARTLearner()\n",
    "model = cart(train_data)"
   ]
  },
  {
   "attachments": {},
   "cell_type": "markdown",
   "metadata": {},
   "source": [
    "Evaluar el rendimiento del modelo utilizando los datos de prueba"
   ]
  },
  {
   "cell_type": "code",
   "execution_count": 25,
   "metadata": {},
   "outputs": [
    {
     "ename": "NameError",
     "evalue": "name 'model' is not defined",
     "output_type": "error",
     "traceback": [
      "\u001b[0;31m---------------------------------------------------------------------------\u001b[0m",
      "\u001b[0;31mNameError\u001b[0m                                 Traceback (most recent call last)",
      "\u001b[0;32m/var/folders/vz/g15hkq995qg_xxn2dtvhp28w0000gn/T/ipykernel_25638/1783838809.py\u001b[0m in \u001b[0;36m<module>\u001b[0;34m\u001b[0m\n\u001b[0;32m----> 1\u001b[0;31m \u001b[0mpredictions\u001b[0m \u001b[0;34m=\u001b[0m \u001b[0mmodel\u001b[0m\u001b[0;34m(\u001b[0m\u001b[0mtest_data\u001b[0m\u001b[0;34m)\u001b[0m\u001b[0;34m\u001b[0m\u001b[0;34m\u001b[0m\u001b[0m\n\u001b[0m\u001b[1;32m      2\u001b[0m \u001b[0;34m\u001b[0m\u001b[0m\n\u001b[1;32m      3\u001b[0m \u001b[0maccuracy\u001b[0m \u001b[0;34m=\u001b[0m \u001b[0mOrange\u001b[0m\u001b[0;34m.\u001b[0m\u001b[0mevaluation\u001b[0m\u001b[0;34m.\u001b[0m\u001b[0mAccuracy\u001b[0m\u001b[0;34m(\u001b[0m\u001b[0mpredictions\u001b[0m\u001b[0;34m,\u001b[0m \u001b[0mtest_data\u001b[0m\u001b[0;34m)\u001b[0m\u001b[0;34m\u001b[0m\u001b[0;34m\u001b[0m\u001b[0m\n\u001b[1;32m      4\u001b[0m \u001b[0;34m\u001b[0m\u001b[0m\n\u001b[1;32m      5\u001b[0m \u001b[0mprint\u001b[0m\u001b[0;34m(\u001b[0m\u001b[0;34mf\"Accuracy: {accuracy}\"\u001b[0m\u001b[0;34m)\u001b[0m\u001b[0;34m\u001b[0m\u001b[0;34m\u001b[0m\u001b[0m\n",
      "\u001b[0;31mNameError\u001b[0m: name 'model' is not defined"
     ]
    }
   ],
   "source": [
    "predictions = model(test_data)\n",
    "\n",
    "accuracy = Orange.evaluation.Accuracy(predictions, test_data)\n",
    "\n",
    "print(f\"Accuracy: {accuracy}\")"
   ]
  },
  {
   "attachments": {},
   "cell_type": "markdown",
   "metadata": {},
   "source": [
    "Comparar con otros algoritmos de árbol de decisión"
   ]
  },
  {
   "cell_type": "code",
   "execution_count": 28,
   "metadata": {},
   "outputs": [
    {
     "ename": "AttributeError",
     "evalue": "module 'Orange.classification' has no attribute 'HuntLearner'",
     "output_type": "error",
     "traceback": [
      "\u001b[0;31m---------------------------------------------------------------------------\u001b[0m",
      "\u001b[0;31mAttributeError\u001b[0m                            Traceback (most recent call last)",
      "\u001b[0;32m/var/folders/vz/g15hkq995qg_xxn2dtvhp28w0000gn/T/ipykernel_25638/2077254018.py\u001b[0m in \u001b[0;36m<module>\u001b[0;34m\u001b[0m\n\u001b[0;32m----> 1\u001b[0;31m \u001b[0mhunt\u001b[0m \u001b[0;34m=\u001b[0m \u001b[0mOrange\u001b[0m\u001b[0;34m.\u001b[0m\u001b[0mclassification\u001b[0m\u001b[0;34m.\u001b[0m\u001b[0mHuntLearner\u001b[0m\u001b[0;34m(\u001b[0m\u001b[0;34m)\u001b[0m\u001b[0;34m\u001b[0m\u001b[0;34m\u001b[0m\u001b[0m\n\u001b[0m\u001b[1;32m      2\u001b[0m \u001b[0;34m\u001b[0m\u001b[0m\n\u001b[1;32m      3\u001b[0m \u001b[0mmodel\u001b[0m \u001b[0;34m=\u001b[0m \u001b[0mhunt\u001b[0m\u001b[0;34m(\u001b[0m\u001b[0mtrain_data\u001b[0m\u001b[0;34m)\u001b[0m\u001b[0;34m\u001b[0m\u001b[0;34m\u001b[0m\u001b[0m\n\u001b[1;32m      4\u001b[0m \u001b[0;34m\u001b[0m\u001b[0m\n\u001b[1;32m      5\u001b[0m \u001b[0mpredictions\u001b[0m \u001b[0;34m=\u001b[0m \u001b[0mmodel\u001b[0m\u001b[0;34m(\u001b[0m\u001b[0mtest_data\u001b[0m\u001b[0;34m)\u001b[0m\u001b[0;34m\u001b[0m\u001b[0;34m\u001b[0m\u001b[0m\n",
      "\u001b[0;31mAttributeError\u001b[0m: module 'Orange.classification' has no attribute 'HuntLearner'"
     ]
    }
   ],
   "source": [
    "hunt = Orange.classification.HuntLearner()\n",
    "\n",
    "model = hunt(train_data)\n",
    "\n",
    "predictions = model(test_data)\n",
    "\n",
    "accuracy = Orange.evaluation.Accuracy(predictions, test_data)\n",
    "\n",
    "id3 = Orange.classification.ID3Learner()\n",
    "model = id3(train_data)\n",
    "predictions = model(test_data)\n",
    "accuracy = Orange.evaluation.Accuracy(predictions, test_data)\n",
    "print(f\"Accuracy with ID3: {accuracy}\")\n",
    "\n",
    "c45 = Orange.classification.C45Learner()\n",
    "model = c45(train_data)\n",
    "predictions = model(test_data)\n",
    "accuracy = Orange.evaluation.Accuracy(predictions, test_data)\n",
    "print(f\"Accuracy with C4.5: {accuracy}\")\n",
    "\n",
    "sliq = Orange.classification.SLIQLearner()\n",
    "model = sliq(train_data)\n",
    "predictions = model(test_data)\n",
    "accuracy = Orange.evaluation.Accuracy(predictions, test_data)\n",
    "print(f\"Accuracy with SLIQ: {accuracy}\")\n",
    "\n",
    "sprint = Orange.classification.SprintLearner()\n",
    "model = sprint(train_data)\n",
    "predictions = model(test_data)\n",
    "accuracy = Orange.evaluation.Accuracy(predictions, test_data)\n",
    "print(f\"Accuracy with SPRINT: {accuracy}\")"
   ]
  },
  {
   "attachments": {},
   "cell_type": "markdown",
   "metadata": {},
   "source": [
    "Seleccionar el modelo con el mejor rendimiento y utilizarlo para realizar predicciones"
   ]
  },
  {
   "cell_type": "code",
   "execution_count": 27,
   "metadata": {},
   "outputs": [
    {
     "ename": "AttributeError",
     "evalue": "module 'Orange.evaluation' has no attribute 'Importance'",
     "output_type": "error",
     "traceback": [
      "\u001b[0;31m---------------------------------------------------------------------------\u001b[0m",
      "\u001b[0;31mAttributeError\u001b[0m                            Traceback (most recent call last)",
      "\u001b[0;32m/var/folders/vz/g15hkq995qg_xxn2dtvhp28w0000gn/T/ipykernel_25638/3070927586.py\u001b[0m in \u001b[0;36m<module>\u001b[0;34m\u001b[0m\n\u001b[0;32m----> 1\u001b[0;31m \u001b[0mimportances\u001b[0m \u001b[0;34m=\u001b[0m \u001b[0mOrange\u001b[0m\u001b[0;34m.\u001b[0m\u001b[0mevaluation\u001b[0m\u001b[0;34m.\u001b[0m\u001b[0mImportance\u001b[0m\u001b[0;34m(\u001b[0m\u001b[0mmodel\u001b[0m\u001b[0;34m,\u001b[0m \u001b[0mtest_data\u001b[0m\u001b[0;34m)\u001b[0m\u001b[0;34m\u001b[0m\u001b[0;34m\u001b[0m\u001b[0m\n\u001b[0m\u001b[1;32m      2\u001b[0m \u001b[0mprint\u001b[0m\u001b[0;34m(\u001b[0m\u001b[0;34mf\"Importances of attributes: {importances}\"\u001b[0m\u001b[0;34m)\u001b[0m\u001b[0;34m\u001b[0m\u001b[0;34m\u001b[0m\u001b[0m\n",
      "\u001b[0;31mAttributeError\u001b[0m: module 'Orange.evaluation' has no attribute 'Importance'"
     ]
    }
   ],
   "source": [
    "best_model = cart"
   ]
  },
  {
   "attachments": {},
   "cell_type": "markdown",
   "metadata": {},
   "source": [
    "Realizar predicciones sobre el rendimiento del cultivo en una finca específica"
   ]
  },
  {
   "cell_type": "code",
   "execution_count": null,
   "metadata": {},
   "outputs": [],
   "source": [
    "tomato_farm = [(\"cultivo\", \"tomate\"), (\"ubicación\", \"Almería\"), (\"tamaño\", \"pequeña\"), (\"fertilizantes\", \"si\")]\n",
    "prediction = best_model(tomato_farm)\n",
    "print(f\"Predicted yield for tomato farm: {prediction}\")"
   ]
  },
  {
   "attachments": {},
   "cell_type": "markdown",
   "metadata": {},
   "source": [
    "Identificar los principales factores que influyen en el rendimiento del cultivo"
   ]
  },
  {
   "cell_type": "code",
   "execution_count": null,
   "metadata": {},
   "outputs": [],
   "source": [
    "importances = Orange.evaluation.Importance(best_model, test_data)\n",
    "print(f\"Importances of attributes: {importances}\")"
   ]
  },
  {
   "attachments": {},
   "cell_type": "markdown",
   "metadata": {},
   "source": [
    "Proporcionar recomendaciones para mejorar el rendimiento en el sector de la agricultura"
   ]
  },
  {
   "cell_type": "code",
   "execution_count": null,
   "metadata": {},
   "outputs": [],
   "source": [
    "if importances[0][1] > 0.5:\n",
    "    print(\"Consider using a different type of cultivar to improve yield.\")\n",
    "if importances[1][1] > 0.5:\n",
    "    print(\"Consider changing the location of the farm to improve yield.\")\n",
    "if importances[2][1] > 0.5:\n",
    "    print(\"Consider expanding the size of the farm to improve yield.\")\n",
    "if importances[3][1] > 0.5:\n",
    "    print(\"Consider using high-quality fertilizers in appropriate doses to improve yield.\")"
   ]
  },
  {
   "attachments": {},
   "cell_type": "markdown",
   "metadata": {},
   "source": [
    "Utilizar técnicas de validación cruzada para evaluar el rendimiento del modelo y minimizar el sesgo"
   ]
  },
  {
   "cell_type": "code",
   "execution_count": null,
   "metadata": {},
   "outputs": [],
   "source": [
    "scores = Orange.evaluation.CrossValidation(data, [cart], k=5)\n",
    "print(f\"Cross-validation scores: {scores}\")\n",
    "mean_score = sum(scores) / len(scores)\n",
    "print(f\"Mean cross-validation score: {mean_score}\")"
   ]
  },
  {
   "attachments": {},
   "cell_type": "markdown",
   "metadata": {},
   "source": [
    "Utilizar técnicas de selección de características para seleccionar las variables más importantes y mejorar la capacidad del modelo de hacer predicciones precisas"
   ]
  },
  {
   "cell_type": "code",
   "execution_count": null,
   "metadata": {},
   "outputs": [],
   "source": [
    "selector = Orange.feature.selection.BestFeaturesLearner(k=3)\n",
    "selected_data = selector(data)\n",
    "model = cart(selected_data)\n",
    "print(f\"Selected attributes: {selected_data.domain.attributes}\")"
   ]
  },
  {
   "attachments": {},
   "cell_type": "markdown",
   "metadata": {},
   "source": [
    "Utilizar técnicas de ensamble, como el bosque aleatorio, para mejorar aún más el rendimiento del modelo"
   ]
  },
  {
   "cell_type": "code",
   "execution_count": null,
   "metadata": {},
   "outputs": [],
   "source": [
    "forest = Orange.ensemble.RandomForestLearner()\n",
    "model = forest(data)\n",
    "predictions = model(test_data)\n",
    "accuracy = Orange.evaluation.Accuracy(predictions, test_data)\n",
    "print(f\"Accuracy with random forest: {accuracy}\")"
   ]
  },
  {
   "attachments": {},
   "cell_type": "markdown",
   "metadata": {},
   "source": [
    "Presentar los resultados del análisis en un informe, incluyendo gráficos y tablas que ilustren los hallazgos más importantes y las recomendaciones realizadas"
   ]
  },
  {
   "cell_type": "code",
   "execution_count": null,
   "metadata": {},
   "outputs": [],
   "source": [
    "Orange.evaluation.graph_ranks(importances, include_order=True, order_by=lambda x: x[1])\n",
    "Orange.visualization.boxplot(data, \"yield\", [\"cultivo\", \"ubicación\"])\n",
    "Orange.visualization.scatterplot(data, \"tamaño\", \"yield\", color=\"ubicación\")"
   ]
  },
  {
   "attachments": {},
   "cell_type": "markdown",
   "metadata": {},
   "source": [
    "Utilizar el modelo para identificar los principales factores que influyen en el rendimiento del cultivo y proporcionar recomendaciones para mejorar el rendimiento en el sector de la agricultura"
   ]
  },
  {
   "cell_type": "code",
   "execution_count": null,
   "metadata": {},
   "outputs": [],
   "source": [
    "importances = model.feature_importance\n",
    "print(f\"Importances: {importances}\")"
   ]
  },
  {
   "attachments": {},
   "cell_type": "markdown",
   "metadata": {},
   "source": [
    "Identificar las variables con mayor importancia"
   ]
  },
  {
   "cell_type": "code",
   "execution_count": null,
   "metadata": {},
   "outputs": [],
   "source": [
    "most_important_vars = [data.domain.attributes[i] for i in range(len(importances)) if importances[i] == max(importances)]\n",
    "print(f\"Most important variables: {most_important_vars}\")"
   ]
  },
  {
   "attachments": {},
   "cell_type": "markdown",
   "metadata": {},
   "source": [
    "Proporcionar recomendaciones basadas en los resultados del modelo y la importancia de cada variable"
   ]
  },
  {
   "cell_type": "code",
   "execution_count": null,
   "metadata": {},
   "outputs": [],
   "source": [
    "if \"cultivo\" in most_important_vars:\n",
    "    print(\"Se recomienda seleccionar variedades de tomates que hayan demostrado altos rendimientos en el pasado.\")\n",
    "if \"ubicación\" in most_important_vars:\n",
    "    print(\"Se recomienda elegir una ubicación con condiciones climáticas favorables para el cultivo de tomates.\")\n",
    "if \"tamaño de la finca\" in most_important_vars:\n",
    "    print(\"Se recomienda utilizar un tamaño de finca adecuado para maximizar el rendimiento del cultivo.\")\n",
    "if \"fertilizantes\" in most_important_vars:\n",
    "    print(\"Se recomienda utilizar fertilizantes de alta calidad y aplicarlos en dosis adecuadas para mejorar el rendimiento del cultivo.\")"
   ]
  }
 ],
 "metadata": {
  "kernelspec": {
   "display_name": "base",
   "language": "python",
   "name": "python3"
  },
  "language_info": {
   "codemirror_mode": {
    "name": "ipython",
    "version": 3
   },
   "file_extension": ".py",
   "mimetype": "text/x-python",
   "name": "python",
   "nbconvert_exporter": "python",
   "pygments_lexer": "ipython3",
   "version": "3.9.13"
  },
  "orig_nbformat": 4
 },
 "nbformat": 4,
 "nbformat_minor": 2
}

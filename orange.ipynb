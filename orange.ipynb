{
 "cells": [
  {
   "cell_type": "code",
   "execution_count": 1,
   "metadata": {},
   "outputs": [],
   "source": [
    "import Orange"
   ]
  },
  {
   "cell_type": "code",
   "execution_count": 2,
   "metadata": {},
   "outputs": [],
   "source": [
    "# Cargar los datos en Orange\n",
    "\n",
    "data = Orange.data.Table(\"agriculture_data.tab\")"
   ]
  },
  {
   "attachments": {},
   "cell_type": "markdown",
   "metadata": {},
   "source": [
    "Realizar una exploración inicial de los datos"
   ]
  },
  {
   "cell_type": "code",
   "execution_count": 3,
   "metadata": {},
   "outputs": [
    {
     "name": "stdout",
     "output_type": "stream",
     "text": [
      "Number of instances: 5000\n"
     ]
    }
   ],
   "source": [
    "print(f\"Number of instances: {len(data)}\")"
   ]
  },
  {
   "cell_type": "code",
   "execution_count": 4,
   "metadata": {},
   "outputs": [
    {
     "name": "stdout",
     "output_type": "stream",
     "text": [
      "Number of attributes: 5\n"
     ]
    }
   ],
   "source": [
    "print(f\"Number of attributes: {len(data.domain.attributes)}\")"
   ]
  },
  {
   "cell_type": "code",
   "execution_count": 5,
   "metadata": {},
   "outputs": [
    {
     "name": "stdout",
     "output_type": "stream",
     "text": [
      "Attribute names: (DiscreteVariable(name='tipo_cultivo', values=('Tomates',)), DiscreteVariable(name='ubicacion_geografica', values=('Albacete', 'Alicante', 'Almería', 'Asturias', 'Badajoz', 'Baleares', 'Barcelona', 'Burgos', 'Cantabria', 'Castellón', 'Ceuta', 'Ciudad', 'Cuenca', 'Cáceres', 'Cádiz', 'Córdoba', 'Girona', 'Granada', 'Guadalajara', 'Guipúzcoa', 'Huelva', 'Huesca', 'Jaén', 'La Coruña', 'La Rioja', 'Las Palmas', 'León', 'Lleida', 'Lugo', 'Madrid', 'Melilla', 'Murcia', 'Málaga', 'Navarra', 'Ourense', 'Palencia', 'Pontevedra', 'Salamanca', 'Santa Cruz de Tenerife', 'Segovia', 'Sevilla', 'Soria', 'Tarragona', 'Teruel', 'Toledo', 'Valencia', 'Valladolid', 'Vizcaya', 'Zamora', 'Zaragoza', 'Álava', 'Ávila')), ContinuousVariable(name='tamano_finca', number_of_decimals=0), ContinuousVariable(name='rendimiento_cultivo', number_of_decimals=0), DiscreteVariable(name='uso_fertilizantes', values=('no', 'si')))\n"
     ]
    }
   ],
   "source": [
    "print(f\"Attribute names: {data.domain.attributes}\")"
   ]
  },
  {
   "cell_type": "code",
   "execution_count": 6,
   "metadata": {},
   "outputs": [
    {
     "name": "stdout",
     "output_type": "stream",
     "text": [
      "Class name: precio_venta(€/kg)\n"
     ]
    }
   ],
   "source": [
    "print(f\"Class name: {data.domain.class_var}\")"
   ]
  },
  {
   "attachments": {},
   "cell_type": "markdown",
   "metadata": {},
   "source": [
    "Dividir los datos en conjuntos de entrenamiento y prueba"
   ]
  },
  {
   "cell_type": "code",
   "execution_count": 7,
   "metadata": {},
   "outputs": [
    {
     "data": {
      "text/plain": [
       "('1',\n",
       " '2',\n",
       " '3',\n",
       " '4',\n",
       " '5',\n",
       " '6',\n",
       " '7',\n",
       " '8',\n",
       " '9',\n",
       " '10',\n",
       " '11',\n",
       " '12',\n",
       " '13',\n",
       " '14',\n",
       " '15',\n",
       " '16',\n",
       " '17',\n",
       " '18',\n",
       " '19',\n",
       " '20',\n",
       " '21',\n",
       " '22',\n",
       " '23',\n",
       " '24',\n",
       " '25',\n",
       " '26',\n",
       " '27',\n",
       " '28',\n",
       " '29',\n",
       " '30',\n",
       " '31',\n",
       " '32',\n",
       " '33',\n",
       " '34',\n",
       " '35',\n",
       " '36',\n",
       " '37',\n",
       " '38',\n",
       " '39',\n",
       " '40',\n",
       " '41',\n",
       " '42',\n",
       " '43',\n",
       " '44',\n",
       " '45',\n",
       " '46',\n",
       " '47',\n",
       " '48',\n",
       " '49',\n",
       " '50',\n",
       " '51',\n",
       " '52',\n",
       " '53',\n",
       " '54',\n",
       " '55',\n",
       " '56',\n",
       " '57',\n",
       " '58',\n",
       " '59',\n",
       " '60',\n",
       " '61',\n",
       " '62',\n",
       " '63',\n",
       " '64',\n",
       " '65',\n",
       " '66',\n",
       " '67',\n",
       " '68',\n",
       " '69',\n",
       " '70',\n",
       " '71',\n",
       " '72',\n",
       " '73',\n",
       " '74',\n",
       " '75',\n",
       " '76',\n",
       " '77',\n",
       " '78',\n",
       " '79',\n",
       " '80',\n",
       " '81',\n",
       " '82',\n",
       " '83',\n",
       " '84',\n",
       " '85',\n",
       " '86',\n",
       " '87',\n",
       " '88',\n",
       " '89',\n",
       " '90',\n",
       " '91',\n",
       " '92',\n",
       " '93',\n",
       " '94',\n",
       " '95',\n",
       " '96',\n",
       " '97',\n",
       " '98',\n",
       " '99',\n",
       " '100')"
      ]
     },
     "execution_count": 7,
     "metadata": {},
     "output_type": "execute_result"
    }
   ],
   "source": [
    "c_values = data.domain.class_var.values\n",
    "c_values"
   ]
  },
  {
   "cell_type": "code",
   "execution_count": null,
   "metadata": {},
   "outputs": [
    {
     "name": "stderr",
     "output_type": "stream",
     "text": [
      "<ipython-input-15-045976d93124>:3: DeprecationWarning: calling Validation's constructor with data and learners is deprecated;\n",
      "construct an instance and call it\n",
      "  res = Orange.evaluation.CrossValidation(data, [lr], k=5)\n"
     ]
    },
    {
     "name": "stdout",
     "output_type": "stream",
     "text": [
      "Accuracy: 0.778\n",
      "AUC:      0.751\n"
     ]
    }
   ],
   "source": [
    "lr = Orange.classification.LogisticRegressionLearner(max_iter=5000)\n",
    "res = Orange.evaluation.CrossValidation(data, [lr], k=5)\n",
    "print(\"Accuracy: %.3f\" % Orange.evaluation.scoring.CA(res)[0])\n",
    "print(\"AUC:      %.3f\" % Orange.evaluation.scoring.AUC(res)[0])\n",
    "model = lr(data)"
   ]
  },
  {
   "cell_type": "code",
   "execution_count": 8,
   "metadata": {},
   "outputs": [],
   "source": [
    "data_test = Orange.data.Table(\"agriculture_datatest.tab\")"
   ]
  },
  {
   "attachments": {},
   "cell_type": "markdown",
   "metadata": {},
   "source": [
    "Construir el modelo de árbol de decisión CART utilizando los datos de entrenamiento"
   ]
  },
  {
   "cell_type": "code",
   "execution_count": 9,
   "metadata": {},
   "outputs": [],
   "source": [
    "cart = Orange.classification.LogisticRegressionLearner(max_iter=5000)"
   ]
  },
  {
   "attachments": {},
   "cell_type": "markdown",
   "metadata": {},
   "source": [
    "Evaluar el rendimiento del modelo utilizando los datos de prueba"
   ]
  },
  {
   "cell_type": "code",
   "execution_count": 10,
   "metadata": {},
   "outputs": [
    {
     "name": "stderr",
     "output_type": "stream",
     "text": [
      "<ipython-input-10-202f54da225f>:1: DeprecationWarning: calling Validation's constructor with data and learners is deprecated;\n",
      "construct an instance and call it\n",
      "  res = Orange.evaluation.CrossValidation(data, [cart], k=5)\n"
     ]
    },
    {
     "name": "stdout",
     "output_type": "stream",
     "text": [
      "Accuracy: 0.013\n",
      "AUC:      0.499\n"
     ]
    }
   ],
   "source": [
    "res = Orange.evaluation.CrossValidation(data, [cart], k=5)\n",
    "print(\"Accuracy: %.3f\" % Orange.evaluation.scoring.CA(res)[0])\n",
    "print(\"AUC:      %.3f\" % Orange.evaluation.scoring.AUC(res)[0])"
   ]
  },
  {
   "attachments": {},
   "cell_type": "markdown",
   "metadata": {},
   "source": [
    "Comparar con otros algoritmos de árbol de decisión"
   ]
  },
  {
   "cell_type": "code",
   "execution_count": 11,
   "metadata": {},
   "outputs": [
    {
     "name": "stderr",
     "output_type": "stream",
     "text": [
      "<ipython-input-11-6c4a05f056a8>:2: OrangeDeprecationWarning: Direct calls to Table's constructor are deprecated and will be removed. Replace this call with Table.from_list\n",
      "  test = Orange.data.Table(data.domain, random.sample(data, 10))\n",
      "<ipython-input-11-6c4a05f056a8>:3: OrangeDeprecationWarning: Direct calls to Table's constructor are deprecated and will be removed. Replace this call with Table.from_list\n",
      "  train = Orange.data.Table(data.domain, [d for d in data if d not in test])\n"
     ]
    },
    {
     "name": "stdout",
     "output_type": "stream",
     "text": [
      "Number of instances: 10\n"
     ]
    },
    {
     "name": "stderr",
     "output_type": "stream",
     "text": [
      "/home/alberto/anaconda3/lib/python3.8/site-packages/sklearn/linear_model/_logistic.py:814: ConvergenceWarning: lbfgs failed to converge (status=1):\n",
      "STOP: TOTAL NO. of ITERATIONS REACHED LIMIT.\n",
      "\n",
      "Increase the number of iterations (max_iter) or scale the data as shown in:\n",
      "    https://scikit-learn.org/stable/modules/preprocessing.html\n",
      "Please also refer to the documentation for alternative solver options:\n",
      "    https://scikit-learn.org/stable/modules/linear_model.html#logistic-regression\n",
      "  n_iter_i = _check_optimize_result(\n"
     ]
    },
    {
     "name": "stdout",
     "output_type": "stream",
     "text": [
      "Probabilities for 1:\n",
      "original class  tree  knn   logistic regression\n",
      "29              0.000 0.000 0.008\n",
      "62              0.000 0.000 0.010\n",
      "70              0.000 0.000 0.009\n",
      "20              0.000 0.000 0.010\n",
      "61              0.036 0.000 0.010\n",
      "53              0.000 0.000 0.008\n",
      "85              0.000 0.000 0.008\n",
      "14              0.028 0.000 0.011\n",
      "96              0.000 0.000 0.007\n",
      "49              0.000 0.000 0.009\n"
     ]
    }
   ],
   "source": [
    "import random\n",
    "test = Orange.data.Table(data.domain, random.sample(data, 10))\n",
    "train = Orange.data.Table(data.domain, [d for d in data if d not in test])\n",
    "print(f\"Number of instances: {len(test)}\")\n",
    "\n",
    "tree = Orange.classification.tree.TreeLearner(max_depth=3)\n",
    "knn = Orange.classification.knn.KNNLearner(n_neighbors=3)\n",
    "lr = Orange.classification.LogisticRegressionLearner(C=0.1,max_iter=5000)\n",
    "\n",
    "learners = [tree, knn, lr]\n",
    "classifiers = [learner(train) for learner in learners]\n",
    "\n",
    "target = 0\n",
    "print(\"Probabilities for %s:\" % data.domain.class_var.values[target])\n",
    "print(\"original class \", \" \".join(\"%-5s\" % l.name for l in classifiers))\n",
    "\n",
    "c_values = data.domain.class_var.values\n",
    "for d in test:\n",
    "    print(\n",
    "        (\"{:<15}\" + \" {:.3f}\" * len(classifiers)).format(\n",
    "            c_values[int(d.get_class())], *(c(d, 1)[target] for c in classifiers)\n",
    "        )\n",
    "    )"
   ]
  },
  {
   "attachments": {},
   "cell_type": "markdown",
   "metadata": {},
   "source": [
    "Seleccionar el modelo con el mejor rendimiento y utilizarlo para realizar predicciones"
   ]
  },
  {
   "cell_type": "code",
   "execution_count": 12,
   "metadata": {},
   "outputs": [],
   "source": [
    "best_model = cart"
   ]
  },
  {
   "attachments": {},
   "cell_type": "markdown",
   "metadata": {},
   "source": [
    "Realizar predicciones sobre el rendimiento del cultivo en una finca específica"
   ]
  },
  {
   "cell_type": "code",
   "execution_count": 15,
   "metadata": {},
   "outputs": [
    {
     "name": "stdout",
     "output_type": "stream",
     "text": [
      "         tree knn  logistic regression\n"
     ]
    },
    {
     "name": "stderr",
     "output_type": "stream",
     "text": [
      "<ipython-input-15-b7355b788eb1>:2: DeprecationWarning: calling Validation's constructor with data and learners is deprecated;\n",
      "construct an instance and call it\n",
      "  res = Orange.evaluation.CrossValidation(data, learners, k=5)\n",
      "/home/alberto/anaconda3/lib/python3.8/site-packages/sklearn/linear_model/_logistic.py:814: ConvergenceWarning: lbfgs failed to converge (status=1):\n",
      "STOP: TOTAL NO. of ITERATIONS REACHED LIMIT.\n",
      "\n",
      "Increase the number of iterations (max_iter) or scale the data as shown in:\n",
      "    https://scikit-learn.org/stable/modules/preprocessing.html\n",
      "Please also refer to the documentation for alternative solver options:\n",
      "    https://scikit-learn.org/stable/modules/linear_model.html#logistic-regression\n",
      "  n_iter_i = _check_optimize_result(\n",
      "/home/alberto/anaconda3/lib/python3.8/site-packages/sklearn/linear_model/_logistic.py:814: ConvergenceWarning: lbfgs failed to converge (status=1):\n",
      "STOP: TOTAL NO. of ITERATIONS REACHED LIMIT.\n",
      "\n",
      "Increase the number of iterations (max_iter) or scale the data as shown in:\n",
      "    https://scikit-learn.org/stable/modules/preprocessing.html\n",
      "Please also refer to the documentation for alternative solver options:\n",
      "    https://scikit-learn.org/stable/modules/linear_model.html#logistic-regression\n",
      "  n_iter_i = _check_optimize_result(\n",
      "/home/alberto/anaconda3/lib/python3.8/site-packages/sklearn/linear_model/_logistic.py:814: ConvergenceWarning: lbfgs failed to converge (status=1):\n",
      "STOP: TOTAL NO. of ITERATIONS REACHED LIMIT.\n",
      "\n",
      "Increase the number of iterations (max_iter) or scale the data as shown in:\n",
      "    https://scikit-learn.org/stable/modules/preprocessing.html\n",
      "Please also refer to the documentation for alternative solver options:\n",
      "    https://scikit-learn.org/stable/modules/linear_model.html#logistic-regression\n",
      "  n_iter_i = _check_optimize_result(\n",
      "/home/alberto/anaconda3/lib/python3.8/site-packages/sklearn/linear_model/_logistic.py:814: ConvergenceWarning: lbfgs failed to converge (status=1):\n",
      "STOP: TOTAL NO. of ITERATIONS REACHED LIMIT.\n",
      "\n",
      "Increase the number of iterations (max_iter) or scale the data as shown in:\n",
      "    https://scikit-learn.org/stable/modules/preprocessing.html\n",
      "Please also refer to the documentation for alternative solver options:\n",
      "    https://scikit-learn.org/stable/modules/linear_model.html#logistic-regression\n",
      "  n_iter_i = _check_optimize_result(\n",
      "/home/alberto/anaconda3/lib/python3.8/site-packages/sklearn/linear_model/_logistic.py:814: ConvergenceWarning: lbfgs failed to converge (status=1):\n",
      "STOP: TOTAL NO. of ITERATIONS REACHED LIMIT.\n",
      "\n",
      "Increase the number of iterations (max_iter) or scale the data as shown in:\n",
      "    https://scikit-learn.org/stable/modules/preprocessing.html\n",
      "Please also refer to the documentation for alternative solver options:\n",
      "    https://scikit-learn.org/stable/modules/linear_model.html#logistic-regression\n",
      "  n_iter_i = _check_optimize_result(\n"
     ]
    },
    {
     "name": "stdout",
     "output_type": "stream",
     "text": [
      "Accuracy 0.01 0.01 0.01\n",
      "AUC      0.51 0.50 0.49\n"
     ]
    }
   ],
   "source": [
    "print(\" \" * 9 + \" \".join(\"%-4s\" % learner.name for learner in learners))\n",
    "res = Orange.evaluation.CrossValidation(data, learners, k=5)\n",
    "print(\"Accuracy %s\" % \" \".join(\"%.2f\" % s for s in Orange.evaluation.CA(res)))\n",
    "print(\"AUC      %s\" % \" \".join(\"%.2f\" % s for s in Orange.evaluation.AUC(res)))"
   ]
  },
  {
   "attachments": {},
   "cell_type": "markdown",
   "metadata": {},
   "source": [
    "Utilizar técnicas de validación cruzada para evaluar el rendimiento del modelo y minimizar el sesgo"
   ]
  },
  {
   "cell_type": "code",
   "execution_count": 17,
   "metadata": {},
   "outputs": [
    {
     "name": "stderr",
     "output_type": "stream",
     "text": [
      "<ipython-input-17-95903bab412c>:2: DeprecationWarning: calling Validation's constructor with data and learners is deprecated;\n",
      "construct an instance and call it\n",
      "  res = Orange.evaluation.CrossValidation(data, [lr], k=5)\n"
     ]
    },
    {
     "name": "stdout",
     "output_type": "stream",
     "text": [
      "Accuracy: 0.013\n",
      "AUC:      0.499\n"
     ]
    }
   ],
   "source": [
    "lr = Orange.classification.LogisticRegressionLearner(max_iter=5000)\n",
    "res = Orange.evaluation.CrossValidation(data, [lr], k=5)\n",
    "print(\"Accuracy: %.3f\" % Orange.evaluation.scoring.CA(res)[0])\n",
    "print(\"AUC:      %.3f\" % Orange.evaluation.scoring.AUC(res)[0])"
   ]
  }
 ],
 "metadata": {
  "kernelspec": {
   "display_name": "base",
   "language": "python",
   "name": "python3"
  },
  "language_info": {
   "codemirror_mode": {
    "name": "ipython",
    "version": 3
   },
   "file_extension": ".py",
   "mimetype": "text/x-python",
   "name": "python",
   "nbconvert_exporter": "python",
   "pygments_lexer": "ipython3",
   "version": "3.8.8"
  },
  "orig_nbformat": 4,
  "vscode": {
   "interpreter": {
    "hash": "2f70c2c6f75f001c2435d8036b6cc1833b789af896ffe22ab30918cedbc10c86"
   }
  }
 },
 "nbformat": 4,
 "nbformat_minor": 2
}
